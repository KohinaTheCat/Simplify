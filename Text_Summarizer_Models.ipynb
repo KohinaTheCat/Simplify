{
  "nbformat": 4,
  "nbformat_minor": 0,
  "metadata": {
    "colab": {
      "name": "Text Summarizer Model",
      "provenance": [],
      "collapsed_sections": []
    },
    "kernelspec": {
      "name": "python3",
      "display_name": "Python 3"
    }
  },
  "cells": [
    {
      "cell_type": "markdown",
      "metadata": {
        "id": "dUNA6kXRcyYZ"
      },
      "source": [
        "# Extractive\n",
        "---\n",
        "\n"
      ]
    },
    {
      "cell_type": "code",
      "metadata": {
        "id": "z9P_DMPzVHCJ",
        "outputId": "4d84daa8-e795-4009-c9ec-d62ac12a1c62",
        "colab": {
          "base_uri": "https://localhost:8080/"
        }
      },
      "source": [
        "# from: https://blog.floydhub.com/gentle-introduction-to-text-summarization-in-machine-learning/\n",
        "\n",
        "# This doesn't use a model, just math \n",
        "\n",
        "# which is choosing specific main words from the input to generate the output, \n",
        "# this model tends to work , but won’t output a correctly structured sentences, \n",
        "# as it just selects words from input and copy them to the output, \n",
        "# without actually understanding the sentences , think of it as a highlighter\n",
        "\n",
        "# Creating a dictionary for the word frequency table\n",
        "# Tokenizing the sentences\n",
        "# Algorithm for scoring a sentence by its words\n",
        "# Getting the threshold\n",
        "# Producing the summary\n",
        "\n",
        "#importing libraries\n",
        "from nltk.corpus import stopwords\n",
        "from nltk.stem import PorterStemmer\n",
        "from nltk.tokenize import word_tokenize, sent_tokenize\n",
        "import bs4 as BeautifulSoup\n",
        "import urllib.request  \n",
        "import nltk\n",
        "nltk.download('stopwords')\n",
        "nltk.download('punkt')\n",
        "\n",
        "# STEP 1: Get the Data\n",
        "\n",
        "#fetching the content from the URL\n",
        "fetched_data = urllib.request.urlopen('https://www.cbc.ca/news/canada/coronavirus-covid19-canada-world-nov10-1.5796310')\n",
        "\n",
        "article_read = fetched_data.read()\n",
        "\n",
        "#parsing the URL content and storing in a variable\n",
        "article_parsed = BeautifulSoup.BeautifulSoup(article_read,'html.parser')\n",
        "\n",
        "#returning <p> tags\n",
        "paragraphs = article_parsed.find_all('p')\n",
        "\n",
        "article_content = ''\n",
        "\n",
        "#looping through the paragraphs and adding them to the variable\n",
        "for p in paragraphs:  \n",
        "    article_content += p.text\n",
        "\n",
        "# STEP 2: Cleaning the data\n",
        "\n",
        "def _create_dictionary_table(text_string) -> dict:\n",
        "   \n",
        "    #removing stop words\n",
        "    stop_words = set(stopwords.words(\"english\"))\n",
        "    \n",
        "    words = word_tokenize(text_string)\n",
        "    \n",
        "    #reducing words to their root form\n",
        "    stem = PorterStemmer()\n",
        "    \n",
        "    #creating dictionary for the word frequency table\n",
        "    frequency_table = dict()\n",
        "    for wd in words:\n",
        "        wd = stem.stem(wd)\n",
        "        if wd in stop_words:\n",
        "            continue\n",
        "        if wd in frequency_table:\n",
        "            frequency_table[wd] += 1\n",
        "        else:\n",
        "            frequency_table[wd] = 1\n",
        "\n",
        "    return frequency_table\n",
        "\n",
        "# STEP 3: Weighting each sentence\n",
        "\n",
        "def _calculate_sentence_scores(sentences, frequency_table) -> dict:   \n",
        "\n",
        "    #algorithm for scoring a sentence by its words\n",
        "    sentence_weight = dict()\n",
        "\n",
        "    for sentence in sentences:\n",
        "        sentence_wordcount = (len(word_tokenize(sentence)))\n",
        "        sentence_wordcount_without_stop_words = 0\n",
        "        for word_weight in frequency_table:\n",
        "            if word_weight in sentence.lower():\n",
        "                sentence_wordcount_without_stop_words += 1\n",
        "                if sentence[:7] in sentence_weight:\n",
        "                    sentence_weight[sentence[:7]] += frequency_table[word_weight]\n",
        "                else:\n",
        "                    sentence_weight[sentence[:7]] = frequency_table[word_weight]\n",
        "\n",
        "        sentence_weight[sentence[:7]] = sentence_weight[sentence[:7]] / sentence_wordcount_without_stop_words\n",
        "\n",
        "    return sentence_weight\n",
        "\n",
        "# STEP 4: Find the average sentence score\n",
        "\n",
        "def _calculate_average_score(sentence_weight) -> int:\n",
        "   \n",
        "    #calculating the average score for the sentences\n",
        "    sum_values = 0\n",
        "    for entry in sentence_weight:\n",
        "        sum_values += sentence_weight[entry]\n",
        "\n",
        "    #getting sentence average value from source text\n",
        "    average_score = (sum_values / len(sentence_weight))\n",
        "\n",
        "    return average_score\n",
        "\n",
        "# STEP 5: Run it\n",
        "\n",
        "def _get_article_summary(sentences, sentence_weight, threshold):\n",
        "    sentence_counter = 0\n",
        "    article_summary = ''\n",
        "\n",
        "    for sentence in sentences:\n",
        "        if sentence[:7] in sentence_weight and sentence_weight[sentence[:7]] >= (threshold):\n",
        "            article_summary += \" \" + sentence\n",
        "            sentence_counter += 1\n",
        "\n",
        "    return article_summary\n",
        "\n",
        "def _run_article_summary(article):\n",
        "    \n",
        "    #creating a dictionary for the word frequency table\n",
        "    frequency_table = _create_dictionary_table(article)\n",
        "\n",
        "    #tokenizing the sentences\n",
        "    sentences = sent_tokenize(article)\n",
        "\n",
        "    #algorithm for scoring a sentence by its words\n",
        "    sentence_scores = _calculate_sentence_scores(sentences, frequency_table)\n",
        "\n",
        "    #getting the threshold\n",
        "    threshold = _calculate_average_score(sentence_scores)\n",
        "\n",
        "    #producing the summary\n",
        "    article_summary = _get_article_summary(sentences, sentence_scores, 1.5 * threshold)\n",
        "\n",
        "    return article_summary\n",
        "\n",
        "if __name__ == '__main__':\n",
        "    summary_results = _run_article_summary(article_content)\n",
        "    print(summary_results)"
      ],
      "execution_count": null,
      "outputs": [
        {
          "output_type": "stream",
          "text": [
            "[nltk_data] Downloading package stopwords to /root/nltk_data...\n",
            "[nltk_data]   Package stopwords is already up-to-date!\n",
            "[nltk_data] Downloading package punkt to /root/nltk_data...\n",
            "[nltk_data]   Package punkt is already up-to-date!\n",
            " \"If it needs to be done, we'll do it. Provinces and territories listed 221,279 cases as recovered or resolved. We reserve the right to close comments at any time.Audience Relations, CBC P.O.\n"
          ],
          "name": "stdout"
        }
      ]
    },
    {
      "cell_type": "markdown",
      "metadata": {
        "id": "BLCfojjJc-0g"
      },
      "source": [
        "# BART - Facebook Model. (Sequence to Sequence)\n",
        "https://colab.research.google.com/github/sshleifer/blog_v2/blob/master/_notebooks/2020-03-12-bart.ipynb#scrollTo=dBwfB2wvY3dR"
      ]
    },
    {
      "cell_type": "markdown",
      "metadata": {
        "id": "kUVUUKNMdKmP"
      },
      "source": [
        "## Setup"
      ]
    },
    {
      "cell_type": "code",
      "metadata": {
        "id": "KUOw-ISddDi6",
        "outputId": "eb2db65e-9d81-49bb-fd97-d50cbd71ea70",
        "colab": {
          "base_uri": "https://localhost:8080/"
        }
      },
      "source": [
        "# Bart\n",
        "!pip install torch\n",
        "!pip install transformers\n",
        "import torch\n",
        "try:\n",
        "    import transformers\n",
        "    from transformers import BartTokenizer, BartForConditionalGeneration\n",
        "except ImportError:\n",
        "    raise ImportError(INSTALL_MSG)\n",
        "from IPython.display import display, Markdown\n",
        "\n",
        "torch_device = 'cuda' if torch.cuda.is_available() else 'cpu'\n",
        "\n",
        "# Newspaper\n",
        "!pip install newspaper3k\n",
        "from newspaper import Article"
      ],
      "execution_count": null,
      "outputs": [
        {
          "output_type": "stream",
          "text": [
            "Requirement already satisfied: torch in /usr/local/lib/python3.6/dist-packages (1.7.0+cu101)\n",
            "Requirement already satisfied: typing-extensions in /usr/local/lib/python3.6/dist-packages (from torch) (3.7.4.3)\n",
            "Requirement already satisfied: future in /usr/local/lib/python3.6/dist-packages (from torch) (0.16.0)\n",
            "Requirement already satisfied: numpy in /usr/local/lib/python3.6/dist-packages (from torch) (1.18.5)\n",
            "Requirement already satisfied: dataclasses in /usr/local/lib/python3.6/dist-packages (from torch) (0.7)\n",
            "Requirement already satisfied: transformers in /usr/local/lib/python3.6/dist-packages (3.5.0)\n",
            "Requirement already satisfied: requests in /usr/local/lib/python3.6/dist-packages (from transformers) (2.23.0)\n",
            "Requirement already satisfied: dataclasses; python_version < \"3.7\" in /usr/local/lib/python3.6/dist-packages (from transformers) (0.7)\n",
            "Requirement already satisfied: regex!=2019.12.17 in /usr/local/lib/python3.6/dist-packages (from transformers) (2019.12.20)\n",
            "Requirement already satisfied: sacremoses in /usr/local/lib/python3.6/dist-packages (from transformers) (0.0.43)\n",
            "Requirement already satisfied: filelock in /usr/local/lib/python3.6/dist-packages (from transformers) (3.0.12)\n",
            "Requirement already satisfied: tokenizers==0.9.3 in /usr/local/lib/python3.6/dist-packages (from transformers) (0.9.3)\n",
            "Requirement already satisfied: tqdm>=4.27 in /usr/local/lib/python3.6/dist-packages (from transformers) (4.41.1)\n",
            "Requirement already satisfied: protobuf in /usr/local/lib/python3.6/dist-packages (from transformers) (3.12.4)\n",
            "Requirement already satisfied: numpy in /usr/local/lib/python3.6/dist-packages (from transformers) (1.18.5)\n",
            "Requirement already satisfied: packaging in /usr/local/lib/python3.6/dist-packages (from transformers) (20.4)\n",
            "Requirement already satisfied: sentencepiece==0.1.91 in /usr/local/lib/python3.6/dist-packages (from transformers) (0.1.91)\n",
            "Requirement already satisfied: idna<3,>=2.5 in /usr/local/lib/python3.6/dist-packages (from requests->transformers) (2.10)\n",
            "Requirement already satisfied: urllib3!=1.25.0,!=1.25.1,<1.26,>=1.21.1 in /usr/local/lib/python3.6/dist-packages (from requests->transformers) (1.24.3)\n",
            "Requirement already satisfied: chardet<4,>=3.0.2 in /usr/local/lib/python3.6/dist-packages (from requests->transformers) (3.0.4)\n",
            "Requirement already satisfied: certifi>=2017.4.17 in /usr/local/lib/python3.6/dist-packages (from requests->transformers) (2020.6.20)\n",
            "Requirement already satisfied: joblib in /usr/local/lib/python3.6/dist-packages (from sacremoses->transformers) (0.17.0)\n",
            "Requirement already satisfied: six in /usr/local/lib/python3.6/dist-packages (from sacremoses->transformers) (1.15.0)\n",
            "Requirement already satisfied: click in /usr/local/lib/python3.6/dist-packages (from sacremoses->transformers) (7.1.2)\n",
            "Requirement already satisfied: setuptools in /usr/local/lib/python3.6/dist-packages (from protobuf->transformers) (50.3.2)\n",
            "Requirement already satisfied: pyparsing>=2.0.2 in /usr/local/lib/python3.6/dist-packages (from packaging->transformers) (2.4.7)\n",
            "Requirement already satisfied: newspaper3k in /usr/local/lib/python3.6/dist-packages (0.2.8)\n",
            "Requirement already satisfied: cssselect>=0.9.2 in /usr/local/lib/python3.6/dist-packages (from newspaper3k) (1.1.0)\n",
            "Requirement already satisfied: Pillow>=3.3.0 in /usr/local/lib/python3.6/dist-packages (from newspaper3k) (7.0.0)\n",
            "Requirement already satisfied: requests>=2.10.0 in /usr/local/lib/python3.6/dist-packages (from newspaper3k) (2.23.0)\n",
            "Requirement already satisfied: nltk>=3.2.1 in /usr/local/lib/python3.6/dist-packages (from newspaper3k) (3.2.5)\n",
            "Requirement already satisfied: lxml>=3.6.0 in /usr/local/lib/python3.6/dist-packages (from newspaper3k) (4.2.6)\n",
            "Requirement already satisfied: beautifulsoup4>=4.4.1 in /usr/local/lib/python3.6/dist-packages (from newspaper3k) (4.6.3)\n",
            "Requirement already satisfied: feedparser>=5.2.1 in /usr/local/lib/python3.6/dist-packages (from newspaper3k) (6.0.2)\n",
            "Requirement already satisfied: tinysegmenter==0.3 in /usr/local/lib/python3.6/dist-packages (from newspaper3k) (0.3)\n",
            "Requirement already satisfied: jieba3k>=0.35.1 in /usr/local/lib/python3.6/dist-packages (from newspaper3k) (0.35.1)\n",
            "Requirement already satisfied: feedfinder2>=0.0.4 in /usr/local/lib/python3.6/dist-packages (from newspaper3k) (0.0.4)\n",
            "Requirement already satisfied: PyYAML>=3.11 in /usr/local/lib/python3.6/dist-packages (from newspaper3k) (3.13)\n",
            "Requirement already satisfied: tldextract>=2.0.1 in /usr/local/lib/python3.6/dist-packages (from newspaper3k) (3.0.2)\n",
            "Requirement already satisfied: python-dateutil>=2.5.3 in /usr/local/lib/python3.6/dist-packages (from newspaper3k) (2.8.1)\n",
            "Requirement already satisfied: certifi>=2017.4.17 in /usr/local/lib/python3.6/dist-packages (from requests>=2.10.0->newspaper3k) (2020.6.20)\n",
            "Requirement already satisfied: idna<3,>=2.5 in /usr/local/lib/python3.6/dist-packages (from requests>=2.10.0->newspaper3k) (2.10)\n",
            "Requirement already satisfied: chardet<4,>=3.0.2 in /usr/local/lib/python3.6/dist-packages (from requests>=2.10.0->newspaper3k) (3.0.4)\n",
            "Requirement already satisfied: urllib3!=1.25.0,!=1.25.1,<1.26,>=1.21.1 in /usr/local/lib/python3.6/dist-packages (from requests>=2.10.0->newspaper3k) (1.24.3)\n",
            "Requirement already satisfied: six in /usr/local/lib/python3.6/dist-packages (from nltk>=3.2.1->newspaper3k) (1.15.0)\n",
            "Requirement already satisfied: sgmllib3k in /usr/local/lib/python3.6/dist-packages (from feedparser>=5.2.1->newspaper3k) (1.0.0)\n",
            "Requirement already satisfied: filelock>=3.0.8 in /usr/local/lib/python3.6/dist-packages (from tldextract>=2.0.1->newspaper3k) (3.0.12)\n",
            "Requirement already satisfied: requests-file>=1.4 in /usr/local/lib/python3.6/dist-packages (from tldextract>=2.0.1->newspaper3k) (1.5.1)\n"
          ],
          "name": "stdout"
        }
      ]
    },
    {
      "cell_type": "markdown",
      "metadata": {
        "id": "tCurS8u3dWAl"
      },
      "source": [
        "## Get Article"
      ]
    },
    {
      "cell_type": "code",
      "metadata": {
        "id": "obm6mpUtdXAX",
        "outputId": "5a0da1e7-7e00-4e47-f8d7-8675652f52d1",
        "colab": {
          "base_uri": "https://localhost:8080/",
          "height": 120
        }
      },
      "source": [
        "url = 'https://www.cbc.ca/news/canada/coronavirus-covid19-canada-world-nov10-1.5796310'\n",
        "\n",
        "article = Article(url)\n",
        "# Get article\n",
        "article.download()\n",
        "article.parse()\n",
        "\n",
        "article.text"
      ],
      "execution_count": null,
      "outputs": [
        {
          "output_type": "execute_result",
          "data": {
            "application/vnd.google.colaboratory.intrinsic+json": {
              "type": "string"
            },
            "text/plain": [
              "'The latest:\\n\\nJurisdictions across Canada implemented new restrictions while others committed to existing measures to counter a spike in COVID-19 cases on Tuesday.\\n\\nToronto is moving into the \"red\" level of Ontario\\'s colour-coded coronavirus shutdown system and adding stricter measures on top of that as the country\\'s largest city reported 520 new cases on Tuesday, setting a record for new infections for the second day in a row.\\n\\n\"We need more measures now because we\\'re seeing spread and risk like we\\'ve never seen before,\" the city\\'s Medical Officer of Health Dr. Eileen de Villa told reporters on Tuesday.\\n\\nToronto will continue to enforce takeout only dining options; require that meeting and event spaces — including bingo halls, casinos and other establishments — remain closed; and prohibit indoor group fitness classes.\\n\\nWATCH | Toronto\\'s top doctor announces stricter pandemic measures:\\n\\nToronto\\'s top doctor announces stricter pandemic measures 2:16 Toronto\\'s Medical Officer of Health Dr. Eileen de Villa has announced stricter measures as COVID-19 cases continue to climb in the city. For 28 days, the city is closing indoor dining, indoor group fitness classes, meeting and event spaces and casinos and bingo halls. 2:16\\n\\nIn addition, de Villa is calling on people not to socialize with those outside their households and for businesses to continue to have work-from-home plans.\\n\\nTuesday\\'s move is in contrast to the city\\'s previous stance, which was that enacting stricter measures on top of the province\\'s restrictions likely exceeded de Villa\\'s legal powers.\\n\\nAsked if municipal medical officers of health are able to trigger a full lockdown if they deem it necessary, Ontario Premier Doug Ford said Tuesday they can, but \"we\\'ve never taken that approach.\"\\n\\n\"I can\\'t rule out anything,\" Ford said later of possible future lockdowns.\\n\\n\"If it needs to be done, we\\'ll do it.\"\\n\\nWATCH | Ontario sparing no expense fighting COVID-19, Ford says:\\n\\nOntario sparing no expense fighting COVID-19, Ford says 0:54 Ontario Premier Doug Ford assured the public Tuesday that the province is doing all it can to fight the COVID-19 pandemic, and said it is sparing no expense or resource. 0:54\\n\\nManitoba is also imposing new measures and moving to red alert level, prompting business closures and travel restrictions.\\n\\nThe restrictions call for sweeping closures, including a pause on in-person religious services, the closure of personal service businesses such as hair salons, closure of in-store shopping at non-essential retail and the closure of restaurant dining rooms.\\n\\n\"We are truly at a crossroads in our fight against this pandemic,\" Chief Provincial Public Health Officer Dr. Brent Roussin said at the Tuesday morning announcement.\\n\\nWATCH | \\'Further action is needed,\\' says Manitoba\\'s top doctor:\\n\\n\\'It\\'s clear that further action is needed and this action is needed now to protect Manitobans\\' 3:26 Dr. Brent Roussin, Manitoba\\'s chief public health officer, announced new COVID-19 restrictions on Tuesday, as the entire province is moved to the red, or critical, level on the pandemic response system. 3:26\\n\\nOther provinces committed to either extending or seeing through existing measures.\\n\\nQuebec Premier François Legault on Tuesday ruled out the possibility of lifting red-zone restrictions early, with two weeks remaining in the province\\'s second 28-day partial lockdown. He said the spread of the virus is particularly concerning in certain regions: namely, Saguenay-Lac-Saint-Jean, Lanaudière, Mauricie-Centre-du-Québec and the Gaspésie.\\n\\nAdditionally, British Columbia extended its provincial state of emergency for another two weeks to ensure B.C. health and emergency officials have the powers they need to respond to the pandemic. The original declaration of the state of emergency was made on March 18 and Tuesday\\'s extension lasts until Nov. 24.\\n\\nA gym workers sprays a sanitizing solution on used equipment in Vancouver on Tuesday. (Ben Nelms/CBC)\\n\\nThe local announcements come as Prime Minister Justin Trudeau remarked Tuesday that Canada is \"seeing record spikes this morning across the country.\"\\n\\n\"I\\'m imploring the premiers and our mayors to please do the right thing — act now to protect public health,\" he said during his regular morning briefing with public health officials.\\n\\n\"If you think something is missing in the support we\\'re offering for your citizens — tell us.\"\\n\\nWATCH | Pandemic is worsening, says infectious disease specialist:\\n\\nCOVID-19 situation getting worse, not better: infectious disease specialist 1:14 Despite the possibility of a COVID-19 vaccine on the horizon, infectious disease specialist Dr. Isaac Bogoch says we need to to double down on efforts to stop the spread of the disease right now. 1:14\\n\\nTrudeau was asked by reporters to point out the provinces struggling with caseloads now, but he declined.\\n\\n\"I think it\\'s extremely important to recognize that we are in a resurgence of COVID-19, and there are things that different regions can do to do more to fight COVID-19,\" he said.\\n\\n\"Our job as a federal government is to be there to make difficult decisions slightly less difficult.\"\\n\\nWhat\\'s happening across Canada\\n\\nAs of 6:45 p.m. ET on Tuesday, provinces and territories in Canada had reported a cumulative total of 273,037 confirmed or presumptive coronavirus cases. Provinces and territories listed 221,279 cases as recovered or resolved. A CBC News tally of deaths based on provincial reports, regional health information and CBC\\'s reporting stood at 10,632.\\n\\n1/2 To date, labs across 🇨🇦 have tested 9,986,069 people for <a href=\"https://twitter.com/hashtag/COVID19?src=hash&ref_src=twsrc%5Etfw\">#COVID19</a>, w\\\\ an average ~2.5% positive overall, for a rate of 265,663 people tested per million population in Canada. <a href=\"https://t.co/jrZH3tHRUo\">https://t.co/jrZH3tHRUo</a> —@CPHO_Canada\\n\\nBritish Columbia recorded 525 new cases and three more deaths as hospitalization numbers reached levels not seen since the spring.\\n\\nAlberta said it has 8,090 active cases, with 207 people in hospital and 43 in ICU beds — all three record highs.\\n\\nOntario reported 1,388 new cases — a new daily high — and 15 more deaths.\\n\\nPeople wearing face masks plant Canadian flags in the lawn of the Sunnybrook Veterans Centre in Toronto on Tuesday. (Evan Mitsui/CBC)\\n\\nSaskatchewan reported 127 new cases, while outbreaks have caused two schools in Regina to close and forced the Big River First Nation into lockdown.\\n\\nManitoba reported 384 new cases and five more deaths.\\n\\nIn Quebec, health officials reported 1,162 new cases and 38 additional deaths — including nine reported to have occurred in the last 24 hours.\\n\\nPeople wearing face masks are seen at a Montreal park on Tuesday. (Ryan Remiorz/The Canadian Press)\\n\\nNeither Newfoundland and Labrador nor New Brunswick reported any new cases.\\n\\nNova Scotia recorded three new cases, two of which are connected to a cluster of cases in the Clayton Park area of Halifax.\\n\\nPrince Edward Island announced one new case in a person who was in close contact with a case announced Friday.\\n\\nIn Yukon, high school students in Grades 10 to 12 in Whitehorse will remain on a modified schedule for the remainder of the school year, Education Minister Tracy-Anne McPhee said.\\n\\nChief Medical Officer Dr. Brendan Hanley also said masks will soon be required in common areas of schools, including hallways, cafeterias, libraries and corridors, along with physical distancing of one metre within the classroom between students.\\n\\nWhat\\'s happening around the world\\n\\nAs of Tuesday, there have been more than 51 million cases of COVID-19 reported worldwide, with more than 33 million listed as recovered on a coronavirus tracking dashboard maintained by Johns Hopkins University. The number of deaths recorded by the U.S.-based university stood at more than 1.2 million.\\n\\nIn Asia, Iran imposed a nightly curfew on businesses in Tehran and 30 other cities. Restaurants and non-essential businesses were ordered to close at 6 p.m. for one month, to keep hospitals from becoming overwhelmed and to slow the worsening outbreak.\\n\\nIran has set single-day death records 10 times over the past month, a sign of how quickly the virus is spreading. COVID-19 has killed more than 39,000 people in Iran, the highest toll in the Middle East.\\n\\nIn Europe, Moscow authorities announced two-month restrictions in the capital as Russia has been swept by a resurgence of coronavirus cases since September, with daily infections spiking to more than 20,000 this week.\\n\\nCafes, restaurants, bars and nightclubs have been ordered to close between 11 p.m. and 6 a.m., and college and university students were ordered to move to online classes. Theatres and cinemas are limited to 25 per cent capacity, and all mass cultural and entertainment events have been halted.\\n\\nPolice officers wearing protective masks patrol Manezhnaya Square in Moscow on Tuesday. (Alexander Nemenov/AFP/Getty Images)\\n\\nIn the Americas, the U.S. has surpassed one million cases in just the first 10 days of November, with several states posting new highs on Tuesday — including 12,000 new infections in Illinois and more than 7,000 in Wisconsin.\\n\\nThe U.S. death toll is also soaring and hospitals in several states are at the breaking point.\\n\\nIn Africa, Botswana signed an agreement with the global vaccine distribution scheme co-led by the World Health Organization, giving it the option to buy coronavirus vaccines for 20 per cent of its population.\\n\\nThe southern African country has registered a relatively low number of coronavirus cases, around 7,800 with 27 deaths, but its economy has been dealt a severe blow by the pandemic.'"
            ]
          },
          "metadata": {
            "tags": []
          },
          "execution_count": 33
        }
      ]
    },
    {
      "cell_type": "markdown",
      "metadata": {
        "id": "vfeAV8FzdZIT"
      },
      "source": [
        "## Run Model"
      ]
    },
    {
      "cell_type": "code",
      "metadata": {
        "id": "pM2sulfCdbTv",
        "outputId": "7054d97e-42ff-453b-ed92-aa2d57198d36",
        "colab": {
          "base_uri": "https://localhost:8080/",
          "height": 96
        }
      },
      "source": [
        "#collapse-show\n",
        "tokenizer = BartTokenizer.from_pretrained('facebook/bart-large-cnn')\n",
        "model = BartForConditionalGeneration.from_pretrained('facebook/bart-large-cnn')\n",
        "\n",
        "article_input_ids = tokenizer.batch_encode_plus([article.text], return_tensors='pt', max_length=1024, truncation=True)['input_ids'].to(torch_device)\n",
        "summary_ids = model.generate(article_input_ids,\n",
        "                             num_beams=4,\n",
        "                             length_penalty=2.0,\n",
        "                             max_length=142,\n",
        "                             min_length=56,\n",
        "                             no_repeat_ngram_size=3)\n",
        "\n",
        "summary_txt = tokenizer.decode(summary_ids.squeeze(), skip_special_tokens=True)\n",
        "display(Markdown('> **Summary: **'+summary_txt))"
      ],
      "execution_count": null,
      "outputs": [
        {
          "output_type": "display_data",
          "data": {
            "text/markdown": "> **Summary: **Jurisdictions across Canada implemented new restrictions to counter a spike in COVID-19 cases on Tuesday. Toronto is moving into Ontario's colour-coded coronavirus shutdown system and adding stricter measures on top of that. British Columbia extended its provincial state of emergency for another two weeks to ensure B.C. health and emergency officials have the powers they need.",
            "text/plain": [
              "<IPython.core.display.Markdown object>"
            ]
          },
          "metadata": {
            "tags": []
          }
        }
      ]
    }
  ]
}